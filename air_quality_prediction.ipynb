{
  "metadata": {
    "kernelspec": {
      "language": "python",
      "display_name": "Python 3",
      "name": "python3"
    },
    "language_info": {
      "pygments_lexer": "ipython3",
      "nbconvert_exporter": "python",
      "version": "3.6.4",
      "file_extension": ".py",
      "codemirror_mode": {
        "name": "ipython",
        "version": 3
      },
      "name": "python",
      "mimetype": "text/x-python"
    },
    "colab": {
      "provenance": []
    }
  },
  "nbformat_minor": 0,
  "nbformat": 4,
  "cells": [
    {
      "cell_type": "code",
      "source": [
        "## Importing necessary libraries"
      ],
      "metadata": {
        "execution": {
          "iopub.status.busy": "2022-03-31T11:10:50.167696Z",
          "iopub.execute_input": "2022-03-31T11:10:50.168521Z",
          "iopub.status.idle": "2022-03-31T11:10:50.185854Z",
          "shell.execute_reply.started": "2022-03-31T11:10:50.168405Z",
          "shell.execute_reply": "2022-03-31T11:10:50.185182Z"
        },
        "trusted": true,
        "id": "SfSqi-meTAC4"
      },
      "execution_count": null,
      "outputs": []
    },
    {
      "cell_type": "code",
      "source": [
        "import pandas as pd\n",
        "import numpy as np\n",
        "import seaborn as sns\n",
        "import matplotlib.pyplot as plt\n",
        "import warnings\n",
        "warnings.filterwarnings(\"ignore\")\n",
        "\n",
        "from sklearn.preprocessing import LabelEncoder\n",
        "from sklearn.model_selection import train_test_split\n",
        "from sklearn.linear_model import LinearRegression\n",
        "from sklearn.tree import DecisionTreeRegressor\n",
        "from sklearn.ensemble import RandomForestRegressor\n",
        "from sklearn import metrics\n",
        "from sklearn.metrics import mean_absolute_error,mean_squared_error,r2_score\n",
        "from sklearn.metrics import accuracy_score,confusion_matrix"
      ],
      "metadata": {
        "execution": {
          "iopub.status.busy": "2022-03-31T11:10:50.190923Z",
          "iopub.execute_input": "2022-03-31T11:10:50.191185Z",
          "iopub.status.idle": "2022-03-31T11:10:51.534205Z",
          "shell.execute_reply.started": "2022-03-31T11:10:50.191155Z",
          "shell.execute_reply": "2022-03-31T11:10:51.533426Z"
        },
        "trusted": true,
        "id": "lKKZ_zViTAC8"
      },
      "execution_count": null,
      "outputs": []
    },
    {
      "cell_type": "code",
      "source": [
        "df=pd.read_csv('../input/india-air-quality-data/data.csv',encoding='unicode_escape')\n",
        "# Reading the dataset"
      ],
      "metadata": {
        "execution": {
          "iopub.status.busy": "2022-03-31T11:10:51.535676Z",
          "iopub.execute_input": "2022-03-31T11:10:51.535975Z",
          "iopub.status.idle": "2022-03-31T11:10:53.173163Z",
          "shell.execute_reply.started": "2022-03-31T11:10:51.535945Z",
          "shell.execute_reply": "2022-03-31T11:10:53.172266Z"
        },
        "trusted": true,
        "id": "ggyq446OTAC9"
      },
      "execution_count": null,
      "outputs": []
    },
    {
      "cell_type": "markdown",
      "source": [
        "## Data Understanding"
      ],
      "metadata": {
        "id": "nMwBbD06TAC-"
      }
    },
    {
      "cell_type": "code",
      "source": [
        "df.head()\n",
        "# Loading the dataset"
      ],
      "metadata": {
        "execution": {
          "iopub.status.busy": "2022-03-31T11:10:53.17431Z",
          "iopub.execute_input": "2022-03-31T11:10:53.174545Z",
          "iopub.status.idle": "2022-03-31T11:10:53.200631Z",
          "shell.execute_reply.started": "2022-03-31T11:10:53.17451Z",
          "shell.execute_reply": "2022-03-31T11:10:53.200114Z"
        },
        "trusted": true,
        "id": "eUTy3kPXTADB"
      },
      "execution_count": null,
      "outputs": []
    },
    {
      "cell_type": "code",
      "source": [
        "df.shape\n",
        "# As we can see that there are 4,35,742 rows and 13 columns in the dataset"
      ],
      "metadata": {
        "execution": {
          "iopub.status.busy": "2022-03-31T11:10:53.202283Z",
          "iopub.execute_input": "2022-03-31T11:10:53.202905Z",
          "iopub.status.idle": "2022-03-31T11:10:53.208165Z",
          "shell.execute_reply.started": "2022-03-31T11:10:53.202874Z",
          "shell.execute_reply": "2022-03-31T11:10:53.207412Z"
        },
        "trusted": true,
        "id": "eiMQ26BNTADC"
      },
      "execution_count": null,
      "outputs": []
    },
    {
      "cell_type": "code",
      "source": [
        "df.info()\n",
        "# Checking the over all information on the dataset."
      ],
      "metadata": {
        "execution": {
          "iopub.status.busy": "2022-03-31T11:10:53.209466Z",
          "iopub.execute_input": "2022-03-31T11:10:53.20984Z",
          "iopub.status.idle": "2022-03-31T11:10:53.577988Z",
          "shell.execute_reply.started": "2022-03-31T11:10:53.209797Z",
          "shell.execute_reply": "2022-03-31T11:10:53.577146Z"
        },
        "trusted": true,
        "id": "lAu-NS9WTADD"
      },
      "execution_count": null,
      "outputs": []
    },
    {
      "cell_type": "code",
      "source": [
        "df.isnull().sum()\n",
        "# There are a lot of missing values present in the dataset"
      ],
      "metadata": {
        "execution": {
          "iopub.status.busy": "2022-03-31T11:10:53.579339Z",
          "iopub.execute_input": "2022-03-31T11:10:53.579861Z",
          "iopub.status.idle": "2022-03-31T11:10:53.92501Z",
          "shell.execute_reply.started": "2022-03-31T11:10:53.579825Z",
          "shell.execute_reply": "2022-03-31T11:10:53.924131Z"
        },
        "trusted": true,
        "id": "bprHp67vTADD"
      },
      "execution_count": null,
      "outputs": []
    },
    {
      "cell_type": "code",
      "source": [
        "df.describe()\n",
        "# Checking the descriptive stats of the numeric values present in the data like mean, standard deviation, min values and max value present in the data"
      ],
      "metadata": {
        "execution": {
          "iopub.status.busy": "2022-03-31T11:10:53.92651Z",
          "iopub.execute_input": "2022-03-31T11:10:53.926751Z",
          "iopub.status.idle": "2022-03-31T11:10:54.018033Z",
          "shell.execute_reply.started": "2022-03-31T11:10:53.926722Z",
          "shell.execute_reply": "2022-03-31T11:10:54.017145Z"
        },
        "trusted": true,
        "id": "v53LeetuTADE"
      },
      "execution_count": null,
      "outputs": []
    },
    {
      "cell_type": "code",
      "source": [
        "df.nunique()\n",
        "# These are all the unique values present in the dataframe"
      ],
      "metadata": {
        "execution": {
          "iopub.status.busy": "2022-03-31T11:10:54.01922Z",
          "iopub.execute_input": "2022-03-31T11:10:54.019539Z",
          "iopub.status.idle": "2022-03-31T11:10:54.4114Z",
          "shell.execute_reply.started": "2022-03-31T11:10:54.019504Z",
          "shell.execute_reply": "2022-03-31T11:10:54.41053Z"
        },
        "trusted": true,
        "id": "4xOj-4eGTADE"
      },
      "execution_count": null,
      "outputs": []
    },
    {
      "cell_type": "code",
      "source": [
        "df.columns\n",
        "# These are all the columns present in the dataset."
      ],
      "metadata": {
        "execution": {
          "iopub.status.busy": "2022-03-31T11:10:54.41252Z",
          "iopub.execute_input": "2022-03-31T11:10:54.412726Z",
          "iopub.status.idle": "2022-03-31T11:10:54.418395Z",
          "shell.execute_reply.started": "2022-03-31T11:10:54.412701Z",
          "shell.execute_reply": "2022-03-31T11:10:54.417526Z"
        },
        "trusted": true,
        "id": "NyhrRRYYTADF"
      },
      "execution_count": null,
      "outputs": []
    },
    {
      "cell_type": "markdown",
      "source": [
        "stn_code (station code)\n",
        "sampling_date (date of sample collection)\n",
        "state (Indian State)\n",
        "location (location of sample collection)\n",
        "agency\n",
        "type (type of area)\n",
        "so2 (sulphur dioxide concentration)\n",
        "no2 (nitrogen dioxide concentration)\n",
        "rspm (respirable suspended particualte matter concentration)\n",
        "spm (suspended particulate matter)\n",
        "location_monitoring_station\n",
        "pm2_5 (particulate matter 2.5)\n",
        "date (date)"
      ],
      "metadata": {
        "id": "499ljrjmTADF"
      }
    },
    {
      "cell_type": "markdown",
      "source": [
        "## Data Visualization"
      ],
      "metadata": {
        "id": "o5vnxfNYTADF"
      }
    },
    {
      "cell_type": "code",
      "source": [
        "sns.pairplot(data=df)"
      ],
      "metadata": {
        "execution": {
          "iopub.status.busy": "2022-03-31T11:10:54.419499Z",
          "iopub.execute_input": "2022-03-31T11:10:54.419829Z",
          "iopub.status.idle": "2022-03-31T11:11:33.086727Z",
          "shell.execute_reply.started": "2022-03-31T11:10:54.419791Z",
          "shell.execute_reply": "2022-03-31T11:11:33.086134Z"
        },
        "trusted": true,
        "id": "9T5X9KwaTADG"
      },
      "execution_count": null,
      "outputs": []
    },
    {
      "cell_type": "code",
      "source": [
        "df['state'].value_counts()\n",
        "# Viewing the count of values present in the state column"
      ],
      "metadata": {
        "execution": {
          "iopub.status.busy": "2022-03-31T11:11:33.089306Z",
          "iopub.execute_input": "2022-03-31T11:11:33.090262Z",
          "iopub.status.idle": "2022-03-31T11:11:33.14997Z",
          "shell.execute_reply.started": "2022-03-31T11:11:33.09022Z",
          "shell.execute_reply": "2022-03-31T11:11:33.148975Z"
        },
        "trusted": true,
        "id": "t1aa_vwQTADG"
      },
      "execution_count": null,
      "outputs": []
    },
    {
      "cell_type": "code",
      "source": [
        "plt.figure(figsize=(15, 6))\n",
        "plt.xticks(rotation=90)\n",
        "df.state.hist()\n",
        "plt.xlabel('state')\n",
        "plt.ylabel('Frequencies')\n",
        "plt.plot()\n",
        "# The visualization shows us the count of states present in the dataset."
      ],
      "metadata": {
        "execution": {
          "iopub.status.busy": "2022-03-31T11:11:33.151443Z",
          "iopub.execute_input": "2022-03-31T11:11:33.151759Z",
          "iopub.status.idle": "2022-03-31T11:11:33.817317Z",
          "shell.execute_reply.started": "2022-03-31T11:11:33.151717Z",
          "shell.execute_reply": "2022-03-31T11:11:33.81615Z"
        },
        "trusted": true,
        "id": "VoZlMsFcTADH"
      },
      "execution_count": null,
      "outputs": []
    },
    {
      "cell_type": "code",
      "source": [
        "df['type'].value_counts()\n",
        "# Viewing the count of values present in the type column"
      ],
      "metadata": {
        "execution": {
          "iopub.status.busy": "2022-03-31T11:11:33.818705Z",
          "iopub.execute_input": "2022-03-31T11:11:33.819017Z",
          "iopub.status.idle": "2022-03-31T11:11:33.893728Z",
          "shell.execute_reply.started": "2022-03-31T11:11:33.818984Z",
          "shell.execute_reply": "2022-03-31T11:11:33.892632Z"
        },
        "trusted": true,
        "id": "W1UMoBkaTADI"
      },
      "execution_count": null,
      "outputs": []
    },
    {
      "cell_type": "code",
      "source": [
        "plt.figure(figsize=(15, 6))\n",
        "plt.xticks(rotation=90)\n",
        "df.type.hist()\n",
        "plt.xlabel('Type')\n",
        "plt.ylabel('Frequencies')\n",
        "plt.plot()\n",
        "# The visualization shows us the count of Types present in the dataset."
      ],
      "metadata": {
        "execution": {
          "iopub.status.busy": "2022-03-31T11:11:33.895225Z",
          "iopub.execute_input": "2022-03-31T11:11:33.895839Z",
          "iopub.status.idle": "2022-03-31T11:11:34.417184Z",
          "shell.execute_reply.started": "2022-03-31T11:11:33.895797Z",
          "shell.execute_reply": "2022-03-31T11:11:34.416373Z"
        },
        "trusted": true,
        "id": "garr3352TADJ"
      },
      "execution_count": null,
      "outputs": []
    },
    {
      "cell_type": "code",
      "source": [
        "df['agency'].value_counts()\n",
        "# Viewing the counts of values present in the agency column"
      ],
      "metadata": {
        "execution": {
          "iopub.status.busy": "2022-03-31T11:11:34.418459Z",
          "iopub.execute_input": "2022-03-31T11:11:34.419299Z",
          "iopub.status.idle": "2022-03-31T11:11:34.469791Z",
          "shell.execute_reply.started": "2022-03-31T11:11:34.419262Z",
          "shell.execute_reply": "2022-03-31T11:11:34.468762Z"
        },
        "trusted": true,
        "id": "MH5zscfWTADJ"
      },
      "execution_count": null,
      "outputs": []
    },
    {
      "cell_type": "code",
      "source": [
        "plt.figure(figsize=(15, 6))\n",
        "plt.xticks(rotation=90)\n",
        "df.agency.hist()\n",
        "plt.xlabel('Agency')\n",
        "plt.ylabel('Frequencies')\n",
        "plt.plot()\n",
        "# The visualization shows us the count of Agency present in the dataset."
      ],
      "metadata": {
        "execution": {
          "iopub.status.busy": "2022-03-31T11:11:34.472376Z",
          "iopub.execute_input": "2022-03-31T11:11:34.473162Z",
          "iopub.status.idle": "2022-03-31T11:11:36.353712Z",
          "shell.execute_reply.started": "2022-03-31T11:11:34.473123Z",
          "shell.execute_reply": "2022-03-31T11:11:36.35281Z"
        },
        "trusted": true,
        "id": "SQ-hVdONTADJ"
      },
      "execution_count": null,
      "outputs": []
    },
    {
      "cell_type": "code",
      "source": [
        "plt.figure(figsize=(30, 10))\n",
        "plt.xticks(rotation=90)\n",
        "sns.barplot(x='state',y='so2',data=df);\n",
        "# This visualization shows the name of the state having higher so2 levels in the air which is Uttaranchal followed by Uttarakhand"
      ],
      "metadata": {
        "execution": {
          "iopub.status.busy": "2022-03-31T11:11:36.355204Z",
          "iopub.execute_input": "2022-03-31T11:11:36.355864Z",
          "iopub.status.idle": "2022-03-31T11:11:42.248475Z",
          "shell.execute_reply.started": "2022-03-31T11:11:36.355816Z",
          "shell.execute_reply": "2022-03-31T11:11:42.247552Z"
        },
        "trusted": true,
        "id": "um3vKDZATADK"
      },
      "execution_count": null,
      "outputs": []
    },
    {
      "cell_type": "code",
      "source": [
        "plt.rcParams['figure.figsize']=(30,10)"
      ],
      "metadata": {
        "execution": {
          "iopub.status.busy": "2022-03-31T11:11:42.249843Z",
          "iopub.execute_input": "2022-03-31T11:11:42.250243Z",
          "iopub.status.idle": "2022-03-31T11:11:42.255341Z",
          "shell.execute_reply.started": "2022-03-31T11:11:42.250196Z",
          "shell.execute_reply": "2022-03-31T11:11:42.254421Z"
        },
        "trusted": true,
        "id": "Z3etZFYJTADK"
      },
      "execution_count": null,
      "outputs": []
    },
    {
      "cell_type": "code",
      "source": [
        "df[['so2','state']].groupby([\"state\"]).mean().sort_values(by='so2').plot.bar(color='purple')\n",
        "plt.show()\n",
        "# We can also use the groupby function to sort values in an ascending order based on the x-axis, y-axis and its keys\n",
        "# Below we get a clear picture of the states in an increasing order based on their so2 levels."
      ],
      "metadata": {
        "execution": {
          "iopub.status.busy": "2022-03-31T11:11:42.256696Z",
          "iopub.execute_input": "2022-03-31T11:11:42.257002Z",
          "iopub.status.idle": "2022-03-31T11:11:43.092255Z",
          "shell.execute_reply.started": "2022-03-31T11:11:42.25696Z",
          "shell.execute_reply": "2022-03-31T11:11:43.091454Z"
        },
        "trusted": true,
        "id": "9xRnc0CKTADK"
      },
      "execution_count": null,
      "outputs": []
    },
    {
      "cell_type": "code",
      "source": [
        "plt.figure(figsize=(30, 10))\n",
        "plt.xticks(rotation=90)\n",
        "sns.barplot(x='state',y='no2',data=df);\n",
        "# West bengal has a higher no2 level compared to other states"
      ],
      "metadata": {
        "execution": {
          "iopub.status.busy": "2022-03-31T11:11:43.093451Z",
          "iopub.execute_input": "2022-03-31T11:11:43.093672Z",
          "iopub.status.idle": "2022-03-31T11:11:49.182419Z",
          "shell.execute_reply.started": "2022-03-31T11:11:43.093646Z",
          "shell.execute_reply": "2022-03-31T11:11:49.18156Z"
        },
        "trusted": true,
        "id": "hSogi02GTADL"
      },
      "execution_count": null,
      "outputs": []
    },
    {
      "cell_type": "code",
      "source": [
        "df[['no2','state']].groupby([\"state\"]).mean().sort_values(by='no2').plot.bar(color='purple')\n",
        "plt.show()\n",
        "# We can also use the groupby function to sort values in an ascending order based on the x-axis, y-axis and its keys\n",
        "# Below we get a clear picture of the states in an increasing order based on their no2 levels."
      ],
      "metadata": {
        "execution": {
          "iopub.status.busy": "2022-03-31T11:11:49.183496Z",
          "iopub.execute_input": "2022-03-31T11:11:49.183717Z",
          "iopub.status.idle": "2022-03-31T11:11:49.733471Z",
          "shell.execute_reply.started": "2022-03-31T11:11:49.18369Z",
          "shell.execute_reply": "2022-03-31T11:11:49.732628Z"
        },
        "trusted": true,
        "id": "Aa-3uahkTADL"
      },
      "execution_count": null,
      "outputs": []
    },
    {
      "cell_type": "code",
      "source": [
        "plt.figure(figsize=(30, 10))\n",
        "plt.xticks(rotation=90)\n",
        "sns.barplot(x='state',y='rspm',data=df);\n",
        "# Delhi has higher rspm level compared to other states"
      ],
      "metadata": {
        "execution": {
          "iopub.status.busy": "2022-03-31T11:11:49.734591Z",
          "iopub.execute_input": "2022-03-31T11:11:49.734824Z",
          "iopub.status.idle": "2022-03-31T11:11:55.562304Z",
          "shell.execute_reply.started": "2022-03-31T11:11:49.734785Z",
          "shell.execute_reply": "2022-03-31T11:11:55.561732Z"
        },
        "trusted": true,
        "id": "SFXXNrPwTADL"
      },
      "execution_count": null,
      "outputs": []
    },
    {
      "cell_type": "code",
      "source": [
        "plt.figure(figsize=(30, 10))\n",
        "plt.xticks(rotation=90)\n",
        "sns.barplot(x='state',y='spm',data=df);\n",
        "# Delhi has higher spm level compared to other states"
      ],
      "metadata": {
        "execution": {
          "iopub.status.busy": "2022-03-31T11:11:55.563655Z",
          "iopub.execute_input": "2022-03-31T11:11:55.563891Z",
          "iopub.status.idle": "2022-03-31T11:11:59.352076Z",
          "shell.execute_reply.started": "2022-03-31T11:11:55.563863Z",
          "shell.execute_reply": "2022-03-31T11:11:59.351117Z"
        },
        "trusted": true,
        "id": "dibHfcxdTADM"
      },
      "execution_count": null,
      "outputs": []
    },
    {
      "cell_type": "code",
      "source": [
        "plt.figure(figsize=(30, 10))\n",
        "plt.xticks(rotation=90)\n",
        "sns.barplot(x='state',y='pm2_5',data=df);\n",
        "# Delhi has higher pm2_5 level compared to other states"
      ],
      "metadata": {
        "execution": {
          "iopub.status.busy": "2022-03-31T11:11:59.353645Z",
          "iopub.execute_input": "2022-03-31T11:11:59.353994Z",
          "iopub.status.idle": "2022-03-31T11:12:00.666331Z",
          "shell.execute_reply.started": "2022-03-31T11:11:59.353934Z",
          "shell.execute_reply": "2022-03-31T11:12:00.665493Z"
        },
        "trusted": true,
        "id": "216PhFBRTADM"
      },
      "execution_count": null,
      "outputs": []
    },
    {
      "cell_type": "markdown",
      "source": [
        "### Checking all null values and treating those null values."
      ],
      "metadata": {
        "id": "FNfG2zvVTADM"
      }
    },
    {
      "cell_type": "code",
      "source": [
        "nullvalues = df.isnull().sum().sort_values(ascending=False)\n",
        "# Checking all null values"
      ],
      "metadata": {
        "execution": {
          "iopub.status.busy": "2022-03-31T11:12:00.667568Z",
          "iopub.execute_input": "2022-03-31T11:12:00.668177Z",
          "iopub.status.idle": "2022-03-31T11:12:01.013318Z",
          "shell.execute_reply.started": "2022-03-31T11:12:00.668143Z",
          "shell.execute_reply": "2022-03-31T11:12:01.012452Z"
        },
        "trusted": true,
        "id": "wJBrA7K-TADM"
      },
      "execution_count": null,
      "outputs": []
    },
    {
      "cell_type": "code",
      "source": [
        "nullvalues\n",
        "# higher null values present in pm2_5 followed by spm"
      ],
      "metadata": {
        "execution": {
          "iopub.status.busy": "2022-03-31T11:12:01.014445Z",
          "iopub.execute_input": "2022-03-31T11:12:01.014692Z",
          "iopub.status.idle": "2022-03-31T11:12:01.020936Z",
          "shell.execute_reply.started": "2022-03-31T11:12:01.014662Z",
          "shell.execute_reply": "2022-03-31T11:12:01.020139Z"
        },
        "trusted": true,
        "id": "6C4PK58ZTADN"
      },
      "execution_count": null,
      "outputs": []
    },
    {
      "cell_type": "code",
      "source": [
        "null_values_percentage = (df.isnull().sum()/df.isnull().count()*100).sort_values(ascending=False)\n",
        "#count(returns Non-NAN value)"
      ],
      "metadata": {
        "execution": {
          "iopub.status.busy": "2022-03-31T11:12:01.02196Z",
          "iopub.execute_input": "2022-03-31T11:12:01.022622Z",
          "iopub.status.idle": "2022-03-31T11:12:01.713417Z",
          "shell.execute_reply.started": "2022-03-31T11:12:01.022581Z",
          "shell.execute_reply": "2022-03-31T11:12:01.712511Z"
        },
        "trusted": true,
        "id": "qqUIJBGaTADN"
      },
      "execution_count": null,
      "outputs": []
    },
    {
      "cell_type": "code",
      "source": [
        "missing_data_with_percentage = pd.concat([nullvalues, null_values_percentage], axis=1, keys=['Total', 'Percent'])\n",
        "# Concatenating total null values and their percentage of missing values for further imputation or column deletion"
      ],
      "metadata": {
        "execution": {
          "iopub.status.busy": "2022-03-31T11:12:01.714631Z",
          "iopub.execute_input": "2022-03-31T11:12:01.714845Z",
          "iopub.status.idle": "2022-03-31T11:12:01.720057Z",
          "shell.execute_reply.started": "2022-03-31T11:12:01.714818Z",
          "shell.execute_reply": "2022-03-31T11:12:01.719509Z"
        },
        "trusted": true,
        "id": "ROi0eaRPTADN"
      },
      "execution_count": null,
      "outputs": []
    },
    {
      "cell_type": "code",
      "source": [
        "missing_data_with_percentage\n",
        "# As you can see below these are the percentages of null values present in the dataset"
      ],
      "metadata": {
        "execution": {
          "iopub.status.busy": "2022-03-31T11:12:01.721175Z",
          "iopub.execute_input": "2022-03-31T11:12:01.721871Z",
          "iopub.status.idle": "2022-03-31T11:12:01.736548Z",
          "shell.execute_reply.started": "2022-03-31T11:12:01.721829Z",
          "shell.execute_reply": "2022-03-31T11:12:01.735665Z"
        },
        "trusted": true,
        "id": "_iLS_0tfTADN"
      },
      "execution_count": null,
      "outputs": []
    },
    {
      "cell_type": "code",
      "source": [
        "df.drop(['agency'],axis=1,inplace=True)\n",
        "df.drop(['stn_code'],axis=1,inplace=True)\n",
        "df.drop(['date'],axis=1,inplace=True)\n",
        "df.drop(['sampling_date'],axis=1,inplace=True)\n",
        "df.drop(['location_monitoring_station'],axis=1,inplace=True)\n",
        "# Dropping unnecessary columns"
      ],
      "metadata": {
        "execution": {
          "iopub.status.busy": "2022-03-31T11:12:01.737906Z",
          "iopub.execute_input": "2022-03-31T11:12:01.738744Z",
          "iopub.status.idle": "2022-03-31T11:12:01.876999Z",
          "shell.execute_reply.started": "2022-03-31T11:12:01.738701Z",
          "shell.execute_reply": "2022-03-31T11:12:01.876029Z"
        },
        "trusted": true,
        "id": "O57hUWpLTADO"
      },
      "execution_count": null,
      "outputs": []
    },
    {
      "cell_type": "code",
      "source": [
        "df.isnull().sum()\n",
        "# Now checking the null values"
      ],
      "metadata": {
        "execution": {
          "iopub.status.busy": "2022-03-31T11:12:01.878812Z",
          "iopub.execute_input": "2022-03-31T11:12:01.879413Z",
          "iopub.status.idle": "2022-03-31T11:12:02.030247Z",
          "shell.execute_reply.started": "2022-03-31T11:12:01.879354Z",
          "shell.execute_reply": "2022-03-31T11:12:02.02947Z"
        },
        "trusted": true,
        "id": "Sz1Fxao-TADO"
      },
      "execution_count": null,
      "outputs": []
    },
    {
      "cell_type": "code",
      "source": [
        "df"
      ],
      "metadata": {
        "execution": {
          "iopub.status.busy": "2022-03-31T11:12:02.035213Z",
          "iopub.execute_input": "2022-03-31T11:12:02.035456Z",
          "iopub.status.idle": "2022-03-31T11:12:02.057182Z",
          "shell.execute_reply.started": "2022-03-31T11:12:02.035423Z",
          "shell.execute_reply": "2022-03-31T11:12:02.056517Z"
        },
        "trusted": true,
        "id": "boowGhnfTADP"
      },
      "execution_count": null,
      "outputs": []
    },
    {
      "cell_type": "code",
      "source": [
        "df['location']=df['location'].fillna(df['location'].mode()[0])\n",
        "df['type']=df['type'].fillna(df['type'].mode()[0])\n",
        "# Null value Imputation for categorical data"
      ],
      "metadata": {
        "execution": {
          "iopub.status.busy": "2022-03-31T11:12:02.058235Z",
          "iopub.execute_input": "2022-03-31T11:12:02.05844Z",
          "iopub.status.idle": "2022-03-31T11:12:02.285122Z",
          "shell.execute_reply.started": "2022-03-31T11:12:02.058415Z",
          "shell.execute_reply": "2022-03-31T11:12:02.284444Z"
        },
        "trusted": true,
        "id": "GhT_Zx_yTADQ"
      },
      "execution_count": null,
      "outputs": []
    },
    {
      "cell_type": "code",
      "source": [
        "df.fillna(0, inplace=True)\n",
        "# null values are replaced with zeros for the numerical data"
      ],
      "metadata": {
        "execution": {
          "iopub.status.busy": "2022-03-31T11:12:02.286595Z",
          "iopub.execute_input": "2022-03-31T11:12:02.286893Z",
          "iopub.status.idle": "2022-03-31T11:12:02.434325Z",
          "shell.execute_reply.started": "2022-03-31T11:12:02.286854Z",
          "shell.execute_reply": "2022-03-31T11:12:02.433464Z"
        },
        "trusted": true,
        "id": "ICLnCJn0TADR"
      },
      "execution_count": null,
      "outputs": []
    },
    {
      "cell_type": "code",
      "source": [
        "df.isnull().sum()\n",
        "# Now we have successfully imputed null values which were present in the dataset"
      ],
      "metadata": {
        "execution": {
          "iopub.status.busy": "2022-03-31T11:12:02.435149Z",
          "iopub.execute_input": "2022-03-31T11:12:02.435361Z",
          "iopub.status.idle": "2022-03-31T11:12:02.585325Z",
          "shell.execute_reply.started": "2022-03-31T11:12:02.435334Z",
          "shell.execute_reply": "2022-03-31T11:12:02.584773Z"
        },
        "trusted": true,
        "id": "8v9foNT4TADR"
      },
      "execution_count": null,
      "outputs": []
    },
    {
      "cell_type": "code",
      "source": [
        "df\n",
        "# The following features are important for our machine learning models."
      ],
      "metadata": {
        "execution": {
          "iopub.status.busy": "2022-03-31T11:12:02.586153Z",
          "iopub.execute_input": "2022-03-31T11:12:02.586774Z",
          "iopub.status.idle": "2022-03-31T11:12:02.608481Z",
          "shell.execute_reply.started": "2022-03-31T11:12:02.586742Z",
          "shell.execute_reply": "2022-03-31T11:12:02.607736Z"
        },
        "trusted": true,
        "id": "nCK4nKfJTADS"
      },
      "execution_count": null,
      "outputs": []
    },
    {
      "cell_type": "markdown",
      "source": [
        "# CALCULATE AIR QUALITY INDEX FOR SO2 BASED ON FORMULA\n",
        "The air quality index is a piecewise linear function of the pollutant concentration. At the boundary between AQI categories, there is a discontinuous jump of one AQI unit. To convert from concentration to AQI this equation is used"
      ],
      "metadata": {
        "id": "_LBfGhzQTADT"
      }
    },
    {
      "cell_type": "markdown",
      "source": [
        "### Function to calculate so2 individual pollutant index(si)"
      ],
      "metadata": {
        "id": "ebV1ds4wTADT"
      }
    },
    {
      "cell_type": "code",
      "source": [
        "def cal_SOi(so2):\n",
        "    si=0\n",
        "    if (so2<=40):\n",
        "     si= so2*(50/40)\n",
        "    elif (so2>40 and so2<=80):\n",
        "     si= 50+(so2-40)*(50/40)\n",
        "    elif (so2>80 and so2<=380):\n",
        "     si= 100+(so2-80)*(100/300)\n",
        "    elif (so2>380 and so2<=800):\n",
        "     si= 200+(so2-380)*(100/420)\n",
        "    elif (so2>800 and so2<=1600):\n",
        "     si= 300+(so2-800)*(100/800)\n",
        "    elif (so2>1600):\n",
        "     si= 400+(so2-1600)*(100/800)\n",
        "    return si\n",
        "df['SOi']=df['so2'].apply(cal_SOi)\n",
        "data= df[['so2','SOi']]\n",
        "data.head()\n",
        "# calculating the individual pollutant index for so2(sulphur dioxide)"
      ],
      "metadata": {
        "execution": {
          "iopub.status.busy": "2022-03-31T11:12:02.609587Z",
          "iopub.execute_input": "2022-03-31T11:12:02.609795Z",
          "iopub.status.idle": "2022-03-31T11:12:02.905768Z",
          "shell.execute_reply.started": "2022-03-31T11:12:02.609769Z",
          "shell.execute_reply": "2022-03-31T11:12:02.904942Z"
        },
        "trusted": true,
        "id": "6KXAeJLiTADU"
      },
      "execution_count": null,
      "outputs": []
    },
    {
      "cell_type": "markdown",
      "source": [
        "### Function to calculate no2 individual pollutant index(ni)"
      ],
      "metadata": {
        "id": "28bsYoGaTADV"
      }
    },
    {
      "cell_type": "code",
      "source": [
        "def cal_Noi(no2):\n",
        "    ni=0\n",
        "    if(no2<=40):\n",
        "     ni= no2*50/40\n",
        "    elif(no2>40 and no2<=80):\n",
        "     ni= 50+(no2-40)*(50/40)\n",
        "    elif(no2>80 and no2<=180):\n",
        "     ni= 100+(no2-80)*(100/100)\n",
        "    elif(no2>180 and no2<=280):\n",
        "     ni= 200+(no2-180)*(100/100)\n",
        "    elif(no2>280 and no2<=400):\n",
        "     ni= 300+(no2-280)*(100/120)\n",
        "    else:\n",
        "     ni= 400+(no2-400)*(100/120)\n",
        "    return ni\n",
        "df['Noi']=df['no2'].apply(cal_Noi)\n",
        "data= df[['no2','Noi']]\n",
        "data.head()\n",
        "# calculating the individual pollutant index for no2(nitrogen dioxide)"
      ],
      "metadata": {
        "execution": {
          "iopub.status.busy": "2022-03-31T11:12:02.907162Z",
          "iopub.execute_input": "2022-03-31T11:12:02.90754Z",
          "iopub.status.idle": "2022-03-31T11:12:03.218883Z",
          "shell.execute_reply.started": "2022-03-31T11:12:02.907496Z",
          "shell.execute_reply": "2022-03-31T11:12:03.217911Z"
        },
        "trusted": true,
        "id": "EBCYCuWkTADV"
      },
      "execution_count": null,
      "outputs": []
    },
    {
      "cell_type": "markdown",
      "source": [
        "### Function to calculate rspm individual pollutant index(rpi)"
      ],
      "metadata": {
        "id": "2owumqBpTADW"
      }
    },
    {
      "cell_type": "code",
      "source": [
        "def cal_RSPMI(rspm):\n",
        "    rpi=0\n",
        "    if(rpi<=30):\n",
        "     rpi=rpi*50/30\n",
        "    elif(rpi>30 and rpi<=60):\n",
        "     rpi=50+(rpi-30)*50/30\n",
        "    elif(rpi>60 and rpi<=90):\n",
        "     rpi=100+(rpi-60)*100/30\n",
        "    elif(rpi>90 and rpi<=120):\n",
        "     rpi=200+(rpi-90)*100/30\n",
        "    elif(rpi>120 and rpi<=250):\n",
        "     rpi=300+(rpi-120)*(100/130)\n",
        "    else:\n",
        "     rpi=400+(rpi-250)*(100/130)\n",
        "    return rpi\n",
        "df['Rpi']=df['rspm'].apply(cal_RSPMI)\n",
        "data= df[['rspm','Rpi']]\n",
        "data.head()\n",
        "# calculating the individual pollutant index for rspm(respirable suspended particualte matter concentration)"
      ],
      "metadata": {
        "execution": {
          "iopub.status.busy": "2022-03-31T11:12:03.219969Z",
          "iopub.execute_input": "2022-03-31T11:12:03.220203Z",
          "iopub.status.idle": "2022-03-31T11:12:03.497134Z",
          "shell.execute_reply.started": "2022-03-31T11:12:03.220174Z",
          "shell.execute_reply": "2022-03-31T11:12:03.496313Z"
        },
        "trusted": true,
        "id": "-nijsvI8TADW"
      },
      "execution_count": null,
      "outputs": []
    },
    {
      "cell_type": "markdown",
      "source": [
        "### Function to calculate spm individual pollutant index(spi)"
      ],
      "metadata": {
        "id": "Qj0mWXHGTADX"
      }
    },
    {
      "cell_type": "code",
      "source": [
        "def cal_SPMi(spm):\n",
        "    spi=0\n",
        "    if(spm<=50):\n",
        "     spi=spm*50/50\n",
        "    elif(spm>50 and spm<=100):\n",
        "     spi=50+(spm-50)*(50/50)\n",
        "    elif(spm>100 and spm<=250):\n",
        "     spi= 100+(spm-100)*(100/150)\n",
        "    elif(spm>250 and spm<=350):\n",
        "     spi=200+(spm-250)*(100/100)\n",
        "    elif(spm>350 and spm<=430):\n",
        "     spi=300+(spm-350)*(100/80)\n",
        "    else:\n",
        "     spi=400+(spm-430)*(100/430)\n",
        "    return spi\n",
        "\n",
        "df['SPMi']=df['spm'].apply(cal_SPMi)\n",
        "data= df[['spm','SPMi']]\n",
        "data.head()\n",
        "# calculating the individual pollutant index for spm(suspended particulate matter)"
      ],
      "metadata": {
        "execution": {
          "iopub.status.busy": "2022-03-31T11:12:03.49822Z",
          "iopub.execute_input": "2022-03-31T11:12:03.49865Z",
          "iopub.status.idle": "2022-03-31T11:12:03.870511Z",
          "shell.execute_reply.started": "2022-03-31T11:12:03.498616Z",
          "shell.execute_reply": "2022-03-31T11:12:03.869594Z"
        },
        "trusted": true,
        "id": "vcShZiTxTADX"
      },
      "execution_count": null,
      "outputs": []
    },
    {
      "cell_type": "markdown",
      "source": [
        "### function to calculate the air quality index (AQI) of every data value"
      ],
      "metadata": {
        "id": "QZlsPHBBTADX"
      }
    },
    {
      "cell_type": "code",
      "source": [
        "def cal_aqi(si,ni,rspmi,spmi):\n",
        "    aqi=0\n",
        "    if(si>ni and si>rspmi and si>spmi):\n",
        "     aqi=si\n",
        "    if(ni>si and ni>rspmi and ni>spmi):\n",
        "     aqi=ni\n",
        "    if(rspmi>si and rspmi>ni and rspmi>spmi):\n",
        "     aqi=rspmi\n",
        "    if(spmi>si and spmi>ni and spmi>rspmi):\n",
        "     aqi=spmi\n",
        "    return aqi\n",
        "\n",
        "df['AQI']=df.apply(lambda x:cal_aqi(x['SOi'],x['Noi'],x['Rpi'],x['SPMi']),axis=1)\n",
        "data= df[['state','SOi','Noi','Rpi','SPMi','AQI']]\n",
        "data.head()\n",
        "# Caluclating the Air Quality Index."
      ],
      "metadata": {
        "execution": {
          "iopub.status.busy": "2022-03-31T11:12:03.871677Z",
          "iopub.execute_input": "2022-03-31T11:12:03.871902Z",
          "iopub.status.idle": "2022-03-31T11:12:16.323759Z",
          "shell.execute_reply.started": "2022-03-31T11:12:03.871875Z",
          "shell.execute_reply": "2022-03-31T11:12:16.323015Z"
        },
        "trusted": true,
        "id": "d2jbveYmTADX"
      },
      "execution_count": null,
      "outputs": []
    },
    {
      "cell_type": "code",
      "source": [
        "def AQI_Range(x):\n",
        "    if x<=50:\n",
        "        return \"Good\"\n",
        "    elif x>50 and x<=100:\n",
        "        return \"Moderate\"\n",
        "    elif x>100 and x<=200:\n",
        "        return \"Poor\"\n",
        "    elif x>200 and x<=300:\n",
        "        return \"Unhealthy\"\n",
        "    elif x>300 and x<=400:\n",
        "        return \"Very unhealthy\"\n",
        "    elif x>400:\n",
        "        return \"Hazardous\"\n",
        "\n",
        "df['AQI_Range'] = df['AQI'] .apply(AQI_Range)\n",
        "df.head()\n",
        "# Using threshold values to classify a particular values as good, moderate, poor, unhealthy, very unhealthy and Hazardous"
      ],
      "metadata": {
        "execution": {
          "iopub.status.busy": "2022-03-31T11:12:16.324922Z",
          "iopub.execute_input": "2022-03-31T11:12:16.325186Z",
          "iopub.status.idle": "2022-03-31T11:12:16.555354Z",
          "shell.execute_reply.started": "2022-03-31T11:12:16.325157Z",
          "shell.execute_reply": "2022-03-31T11:12:16.554554Z"
        },
        "trusted": true,
        "id": "auvAxlOUTADY"
      },
      "execution_count": null,
      "outputs": []
    },
    {
      "cell_type": "code",
      "source": [
        "df['AQI_Range'].value_counts()\n",
        "# These are the counts of values present in the AQI_Range column."
      ],
      "metadata": {
        "execution": {
          "iopub.status.busy": "2022-03-31T11:12:16.556452Z",
          "iopub.execute_input": "2022-03-31T11:12:16.55667Z",
          "iopub.status.idle": "2022-03-31T11:12:16.615338Z",
          "shell.execute_reply.started": "2022-03-31T11:12:16.556642Z",
          "shell.execute_reply": "2022-03-31T11:12:16.614424Z"
        },
        "trusted": true,
        "id": "dE1rTck8TADY"
      },
      "execution_count": null,
      "outputs": []
    },
    {
      "cell_type": "markdown",
      "source": [
        "### Splitting the dataset into Dependent and Independent columns"
      ],
      "metadata": {
        "id": "ohiIsEyxTADY"
      }
    },
    {
      "cell_type": "code",
      "source": [
        "X=df[['SOi','Noi','Rpi','SPMi']]\n",
        "Y=df['AQI']\n",
        "X.head()\n",
        "# we only select columns like soi, noi, rpi, spmi"
      ],
      "metadata": {
        "execution": {
          "iopub.status.busy": "2022-03-31T11:12:16.616912Z",
          "iopub.execute_input": "2022-03-31T11:12:16.617221Z",
          "iopub.status.idle": "2022-03-31T11:12:16.650037Z",
          "shell.execute_reply.started": "2022-03-31T11:12:16.61718Z",
          "shell.execute_reply": "2022-03-31T11:12:16.649164Z"
        },
        "trusted": true,
        "id": "p7ywQm4BTADY"
      },
      "execution_count": null,
      "outputs": []
    },
    {
      "cell_type": "code",
      "source": [
        "Y.head()\n",
        "# the AQI column is the target column"
      ],
      "metadata": {
        "execution": {
          "iopub.status.busy": "2022-03-31T11:12:16.651951Z",
          "iopub.execute_input": "2022-03-31T11:12:16.652273Z",
          "iopub.status.idle": "2022-03-31T11:12:16.65947Z",
          "shell.execute_reply.started": "2022-03-31T11:12:16.652232Z",
          "shell.execute_reply": "2022-03-31T11:12:16.65857Z"
        },
        "trusted": true,
        "id": "ujTD87VKTADZ"
      },
      "execution_count": null,
      "outputs": []
    },
    {
      "cell_type": "code",
      "source": [
        "X_train,X_test,Y_train,Y_test=train_test_split(X,Y,test_size=0.2,random_state=70)\n",
        "print(X_train.shape,X_test.shape,Y_train.shape,Y_test.shape)\n",
        "# splitting the data into training and testing data"
      ],
      "metadata": {
        "execution": {
          "iopub.status.busy": "2022-03-31T11:12:16.661405Z",
          "iopub.execute_input": "2022-03-31T11:12:16.661712Z",
          "iopub.status.idle": "2022-03-31T11:12:16.719172Z",
          "shell.execute_reply.started": "2022-03-31T11:12:16.661672Z",
          "shell.execute_reply": "2022-03-31T11:12:16.718355Z"
        },
        "trusted": true,
        "id": "elmEVTmiTADZ"
      },
      "execution_count": null,
      "outputs": []
    },
    {
      "cell_type": "markdown",
      "source": [
        "### Linear Regression"
      ],
      "metadata": {
        "id": "7lK234LKTADZ"
      }
    },
    {
      "cell_type": "code",
      "source": [
        "model=LinearRegression()\n",
        "model.fit(X_train,Y_train)"
      ],
      "metadata": {
        "execution": {
          "iopub.status.busy": "2022-03-31T11:12:16.72044Z",
          "iopub.execute_input": "2022-03-31T11:12:16.720678Z",
          "iopub.status.idle": "2022-03-31T11:12:16.775523Z",
          "shell.execute_reply.started": "2022-03-31T11:12:16.720648Z",
          "shell.execute_reply": "2022-03-31T11:12:16.77466Z"
        },
        "trusted": true,
        "id": "LuN1_PWrTADZ"
      },
      "execution_count": null,
      "outputs": []
    },
    {
      "cell_type": "code",
      "source": [
        "#predicting train\n",
        "train_pred=model.predict(X_train)\n",
        "#predicting on test\n",
        "test_pred=model.predict(X_test)"
      ],
      "metadata": {
        "execution": {
          "iopub.status.busy": "2022-03-31T11:12:16.77702Z",
          "iopub.execute_input": "2022-03-31T11:12:16.77752Z",
          "iopub.status.idle": "2022-03-31T11:12:16.794667Z",
          "shell.execute_reply.started": "2022-03-31T11:12:16.777477Z",
          "shell.execute_reply": "2022-03-31T11:12:16.793658Z"
        },
        "trusted": true,
        "id": "u43REFyKTADa"
      },
      "execution_count": null,
      "outputs": []
    },
    {
      "cell_type": "code",
      "source": [
        "RMSE_train=(np.sqrt(metrics.mean_squared_error(Y_train,train_pred)))\n",
        "RMSE_test=(np.sqrt(metrics.mean_squared_error(Y_test,test_pred)))\n",
        "print(\"RMSE TrainingData = \",str(RMSE_train))\n",
        "print(\"RMSE TestData = \",str(RMSE_test))\n",
        "print('-'*50)\n",
        "print('RSquared value on train:',model.score(X_train, Y_train))\n",
        "print('RSquared value on test:',model.score(X_test, Y_test))"
      ],
      "metadata": {
        "execution": {
          "iopub.status.busy": "2022-03-31T11:12:16.796257Z",
          "iopub.execute_input": "2022-03-31T11:12:16.796747Z",
          "iopub.status.idle": "2022-03-31T11:12:16.826921Z",
          "shell.execute_reply.started": "2022-03-31T11:12:16.796704Z",
          "shell.execute_reply": "2022-03-31T11:12:16.826136Z"
        },
        "trusted": true,
        "id": "d6RZ6OxqTADa"
      },
      "execution_count": null,
      "outputs": []
    },
    {
      "cell_type": "markdown",
      "source": [
        "### Decision Tree Regressor"
      ],
      "metadata": {
        "id": "B1joLjDNTADa"
      }
    },
    {
      "cell_type": "code",
      "source": [
        "DT=DecisionTreeRegressor()\n",
        "DT.fit(X_train,Y_train)"
      ],
      "metadata": {
        "execution": {
          "iopub.status.busy": "2022-03-31T11:12:16.828356Z",
          "iopub.execute_input": "2022-03-31T11:12:16.828794Z",
          "iopub.status.idle": "2022-03-31T11:12:17.561401Z",
          "shell.execute_reply.started": "2022-03-31T11:12:16.828753Z",
          "shell.execute_reply": "2022-03-31T11:12:17.560415Z"
        },
        "trusted": true,
        "id": "2jzyJCmvTADa"
      },
      "execution_count": null,
      "outputs": []
    },
    {
      "cell_type": "code",
      "source": [
        "#predicting train\n",
        "train_preds=DT.predict(X_train)\n",
        "#predicting on test\n",
        "test_preds=DT.predict(X_test)"
      ],
      "metadata": {
        "execution": {
          "iopub.status.busy": "2022-03-31T11:12:17.562741Z",
          "iopub.execute_input": "2022-03-31T11:12:17.563128Z",
          "iopub.status.idle": "2022-03-31T11:12:17.647905Z",
          "shell.execute_reply.started": "2022-03-31T11:12:17.56307Z",
          "shell.execute_reply": "2022-03-31T11:12:17.647051Z"
        },
        "trusted": true,
        "id": "N6juyLTtTADb"
      },
      "execution_count": null,
      "outputs": []
    },
    {
      "cell_type": "code",
      "source": [
        "RMSE_train=(np.sqrt(metrics.mean_squared_error(Y_train,train_preds)))\n",
        "RMSE_test=(np.sqrt(metrics.mean_squared_error(Y_test,test_preds)))\n",
        "print(\"RMSE TrainingData = \",str(RMSE_train))\n",
        "print(\"RMSE TestData = \",str(RMSE_test))\n",
        "print('-'*50)\n",
        "print('RSquared value on train:',DT.score(X_train, Y_train))\n",
        "print('RSquared value on test:',DT.score(X_test, Y_test))"
      ],
      "metadata": {
        "execution": {
          "iopub.status.busy": "2022-03-31T11:12:17.649167Z",
          "iopub.execute_input": "2022-03-31T11:12:17.65003Z",
          "iopub.status.idle": "2022-03-31T11:12:17.748897Z",
          "shell.execute_reply.started": "2022-03-31T11:12:17.649976Z",
          "shell.execute_reply": "2022-03-31T11:12:17.748029Z"
        },
        "trusted": true,
        "id": "wt8Hs7dKTADb"
      },
      "execution_count": null,
      "outputs": []
    },
    {
      "cell_type": "markdown",
      "source": [
        "### Random Forest Regressor"
      ],
      "metadata": {
        "id": "RqwHx1eXTADc"
      }
    },
    {
      "cell_type": "code",
      "source": [
        "RF=RandomForestRegressor().fit(X_train,Y_train)"
      ],
      "metadata": {
        "execution": {
          "iopub.status.busy": "2022-03-31T11:12:17.750043Z",
          "iopub.execute_input": "2022-03-31T11:12:17.750315Z",
          "iopub.status.idle": "2022-03-31T11:13:03.463678Z",
          "shell.execute_reply.started": "2022-03-31T11:12:17.750284Z",
          "shell.execute_reply": "2022-03-31T11:13:03.463087Z"
        },
        "trusted": true,
        "id": "h4UTKOxPTADc"
      },
      "execution_count": null,
      "outputs": []
    },
    {
      "cell_type": "code",
      "source": [
        "#predicting train\n",
        "train_preds1=RF.predict(X_train)\n",
        "#predicting on test\n",
        "test_preds1=RF.predict(X_test)"
      ],
      "metadata": {
        "execution": {
          "iopub.status.busy": "2022-03-31T11:13:03.464855Z",
          "iopub.execute_input": "2022-03-31T11:13:03.465616Z",
          "iopub.status.idle": "2022-03-31T11:13:10.756552Z",
          "shell.execute_reply.started": "2022-03-31T11:13:03.465584Z",
          "shell.execute_reply": "2022-03-31T11:13:10.755518Z"
        },
        "trusted": true,
        "id": "lqlVXKOlTADd"
      },
      "execution_count": null,
      "outputs": []
    },
    {
      "cell_type": "code",
      "source": [
        "RMSE_train=(np.sqrt(metrics.mean_squared_error(Y_train,train_preds1)))\n",
        "RMSE_test=(np.sqrt(metrics.mean_squared_error(Y_test,test_preds1)))\n",
        "print(\"RMSE TrainingData = \",str(RMSE_train))\n",
        "print(\"RMSE TestData = \",str(RMSE_test))\n",
        "print('-'*50)\n",
        "print('RSquared value on train:',RF.score(X_train, Y_train))\n",
        "print('RSquared value on test:',RF.score(X_test, Y_test))"
      ],
      "metadata": {
        "execution": {
          "iopub.status.busy": "2022-03-31T11:13:10.757751Z",
          "iopub.execute_input": "2022-03-31T11:13:10.758036Z",
          "iopub.status.idle": "2022-03-31T11:13:18.115757Z",
          "shell.execute_reply.started": "2022-03-31T11:13:10.758004Z",
          "shell.execute_reply": "2022-03-31T11:13:18.114639Z"
        },
        "trusted": true,
        "id": "Jc-XmDT6TADd"
      },
      "execution_count": null,
      "outputs": []
    },
    {
      "cell_type": "markdown",
      "source": [
        "# Classification Algorithms"
      ],
      "metadata": {
        "id": "fL2w18tPTADd"
      }
    },
    {
      "cell_type": "code",
      "source": [
        "from sklearn.linear_model import LogisticRegression\n",
        "from sklearn.tree import DecisionTreeClassifier\n",
        "from sklearn.ensemble import RandomForestClassifier\n",
        "from sklearn.neighbors import KNeighborsClassifier"
      ],
      "metadata": {
        "execution": {
          "iopub.status.busy": "2022-03-31T11:13:18.117057Z",
          "iopub.execute_input": "2022-03-31T11:13:18.117299Z",
          "iopub.status.idle": "2022-03-31T11:13:18.121893Z",
          "shell.execute_reply.started": "2022-03-31T11:13:18.117271Z",
          "shell.execute_reply": "2022-03-31T11:13:18.121137Z"
        },
        "trusted": true,
        "id": "F-2iKc9PTADe"
      },
      "execution_count": null,
      "outputs": []
    },
    {
      "cell_type": "code",
      "source": [
        "X2 = df[['SOi','Noi','Rpi','SPMi']]\n",
        "Y2 = df['AQI_Range']\n",
        "# Splitting the data into independent and dependent columns for classification"
      ],
      "metadata": {
        "execution": {
          "iopub.status.busy": "2022-03-31T11:13:18.1234Z",
          "iopub.execute_input": "2022-03-31T11:13:18.12362Z",
          "iopub.status.idle": "2022-03-31T11:13:18.1403Z",
          "shell.execute_reply.started": "2022-03-31T11:13:18.123592Z",
          "shell.execute_reply": "2022-03-31T11:13:18.139385Z"
        },
        "trusted": true,
        "id": "o5LmMOBGTADe"
      },
      "execution_count": null,
      "outputs": []
    },
    {
      "cell_type": "code",
      "source": [
        "X_train2, X_test2, Y_train2, Y_test2 = train_test_split(X2, Y2, test_size=0.33, random_state=70)\n",
        "# Splitting the data into training and testing data"
      ],
      "metadata": {
        "execution": {
          "iopub.status.busy": "2022-03-31T11:13:18.141551Z",
          "iopub.execute_input": "2022-03-31T11:13:18.141927Z",
          "iopub.status.idle": "2022-03-31T11:13:18.229561Z",
          "shell.execute_reply.started": "2022-03-31T11:13:18.14189Z",
          "shell.execute_reply": "2022-03-31T11:13:18.228683Z"
        },
        "trusted": true,
        "id": "uqUdHIXQTADe"
      },
      "execution_count": null,
      "outputs": []
    },
    {
      "cell_type": "markdown",
      "source": [
        "### Logistic Regression"
      ],
      "metadata": {
        "id": "aPFajzRHTADe"
      }
    },
    {
      "cell_type": "code",
      "source": [
        "#fit the model on train data\n",
        "log_reg = LogisticRegression().fit(X_train2, Y_train2)\n",
        "\n",
        "#predict on train\n",
        "train_preds2 = log_reg.predict(X_train2)\n",
        "#accuracy on train\n",
        "print(\"Model accuracy on train is: \", accuracy_score(Y_train2, train_preds2))\n",
        "\n",
        "#predict on test\n",
        "test_preds2 = log_reg.predict(X_test2)\n",
        "#accuracy on test\n",
        "print(\"Model accuracy on test is: \", accuracy_score(Y_test2, test_preds2))\n",
        "print('-'*50)\n",
        "\n",
        "# Kappa Score.\n",
        "print('KappaScore is: ', metrics.cohen_kappa_score(Y_test2,test_preds2))"
      ],
      "metadata": {
        "execution": {
          "iopub.status.busy": "2022-03-31T11:13:18.230773Z",
          "iopub.execute_input": "2022-03-31T11:13:18.231261Z",
          "iopub.status.idle": "2022-03-31T11:13:40.841388Z",
          "shell.execute_reply.started": "2022-03-31T11:13:18.231216Z",
          "shell.execute_reply": "2022-03-31T11:13:40.840479Z"
        },
        "trusted": true,
        "id": "YvnkqE5sTADf"
      },
      "execution_count": null,
      "outputs": []
    },
    {
      "cell_type": "code",
      "source": [
        "log_reg.predict([[727,327.55,78.2,100]])"
      ],
      "metadata": {
        "execution": {
          "iopub.status.busy": "2022-03-31T11:13:40.842405Z",
          "iopub.execute_input": "2022-03-31T11:13:40.842619Z",
          "iopub.status.idle": "2022-03-31T11:13:40.849691Z",
          "shell.execute_reply.started": "2022-03-31T11:13:40.842593Z",
          "shell.execute_reply": "2022-03-31T11:13:40.848835Z"
        },
        "trusted": true,
        "id": "HhQ-BQw7TADf"
      },
      "execution_count": null,
      "outputs": []
    },
    {
      "cell_type": "code",
      "source": [
        "log_reg.predict([[2.7,45,35.16,23]])"
      ],
      "metadata": {
        "execution": {
          "iopub.status.busy": "2022-03-31T11:13:40.851266Z",
          "iopub.execute_input": "2022-03-31T11:13:40.851997Z",
          "iopub.status.idle": "2022-03-31T11:13:40.865575Z",
          "shell.execute_reply.started": "2022-03-31T11:13:40.851961Z",
          "shell.execute_reply": "2022-03-31T11:13:40.864696Z"
        },
        "trusted": true,
        "id": "eb7BQlI_TADf"
      },
      "execution_count": null,
      "outputs": []
    },
    {
      "cell_type": "code",
      "source": [
        "log_reg.predict([[10,2.8,82,20]])"
      ],
      "metadata": {
        "execution": {
          "iopub.status.busy": "2022-03-31T11:13:40.867183Z",
          "iopub.execute_input": "2022-03-31T11:13:40.867769Z",
          "iopub.status.idle": "2022-03-31T11:13:40.877264Z",
          "shell.execute_reply.started": "2022-03-31T11:13:40.867728Z",
          "shell.execute_reply": "2022-03-31T11:13:40.876367Z"
        },
        "trusted": true,
        "id": "8OchjveBTADg"
      },
      "execution_count": null,
      "outputs": []
    },
    {
      "cell_type": "code",
      "source": [
        "log_reg.predict([[2,45.8,37,32]])"
      ],
      "metadata": {
        "execution": {
          "iopub.status.busy": "2022-03-31T11:13:40.87846Z",
          "iopub.execute_input": "2022-03-31T11:13:40.878789Z",
          "iopub.status.idle": "2022-03-31T11:13:40.888393Z",
          "shell.execute_reply.started": "2022-03-31T11:13:40.878757Z",
          "shell.execute_reply": "2022-03-31T11:13:40.887384Z"
        },
        "trusted": true,
        "id": "3LvwnEa_TADg"
      },
      "execution_count": null,
      "outputs": []
    },
    {
      "cell_type": "markdown",
      "source": [
        "### Decision Tree Classifier"
      ],
      "metadata": {
        "id": "HcvLzYpCTADh"
      }
    },
    {
      "cell_type": "code",
      "source": [
        "#fit the model on train data\n",
        "DT2 = DecisionTreeClassifier().fit(X_train2,Y_train2)\n",
        "\n",
        "#predict on train\n",
        "train_preds3 = DT2.predict(X_train2)\n",
        "#accuracy on train\n",
        "print(\"Model accuracy on train is: \", accuracy_score(Y_train2, train_preds3))\n",
        "\n",
        "#predict on test\n",
        "test_preds3 = DT2.predict(X_test2)\n",
        "#accuracy on test\n",
        "print(\"Model accuracy on test is: \", accuracy_score(Y_test2, test_preds3))\n",
        "print('-'*50)\n",
        "\n",
        "# Kappa Score\n",
        "print('KappaScore is: ', metrics.cohen_kappa_score(Y_test2,test_preds3))"
      ],
      "metadata": {
        "execution": {
          "iopub.status.busy": "2022-03-31T11:13:40.889817Z",
          "iopub.execute_input": "2022-03-31T11:13:40.890223Z",
          "iopub.status.idle": "2022-03-31T11:13:43.765106Z",
          "shell.execute_reply.started": "2022-03-31T11:13:40.890177Z",
          "shell.execute_reply": "2022-03-31T11:13:43.764285Z"
        },
        "trusted": true,
        "id": "bQG3yKuXTADh"
      },
      "execution_count": null,
      "outputs": []
    },
    {
      "cell_type": "markdown",
      "source": [
        "### Random Forest Classifier"
      ],
      "metadata": {
        "id": "X7K8aRymTADi"
      }
    },
    {
      "cell_type": "code",
      "source": [
        "#fit the model on train data\n",
        "RF=RandomForestClassifier().fit(X_train2,Y_train2)\n",
        "#predict on train\n",
        "train_preds4 = RF.predict(X_train2)\n",
        "#accuracy on train\n",
        "print(\"Model accuracy on train is: \", accuracy_score(Y_train2, train_preds4))\n",
        "\n",
        "#predict on test\n",
        "test_preds4 = RF.predict(X_test2)\n",
        "#accuracy on test\n",
        "print(\"Model accuracy on test is: \", accuracy_score(Y_test2, test_preds4))\n",
        "print('-'*50)\n",
        "\n",
        "# Kappa Score\n",
        "print('KappaScore is: ', metrics.cohen_kappa_score(Y_test2,test_preds4))"
      ],
      "metadata": {
        "execution": {
          "iopub.status.busy": "2022-03-31T11:13:43.766443Z",
          "iopub.execute_input": "2022-03-31T11:13:43.766759Z",
          "iopub.status.idle": "2022-03-31T11:14:05.028798Z",
          "shell.execute_reply.started": "2022-03-31T11:13:43.766727Z",
          "shell.execute_reply": "2022-03-31T11:14:05.02784Z"
        },
        "trusted": true,
        "id": "neRcP-wHTADi"
      },
      "execution_count": null,
      "outputs": []
    },
    {
      "cell_type": "markdown",
      "source": [
        "### K-Nearest Neighbours"
      ],
      "metadata": {
        "id": "rKgdxaYvTADi"
      }
    },
    {
      "cell_type": "code",
      "source": [
        "#fit the model on train data\n",
        "KNN = KNeighborsClassifier().fit(X_train2,Y_train2)\n",
        "#predict on train\n",
        "train_preds5 = KNN.predict(X_train2)\n",
        "#accuracy on train\n",
        "print(\"Model accuracy on train is: \", accuracy_score(Y_train2, train_preds5))\n",
        "\n",
        "#predict on test\n",
        "test_preds5 = KNN.predict(X_test2)\n",
        "#accuracy on test\n",
        "print(\"Model accuracy on test is: \", accuracy_score(Y_test2, test_preds5))\n",
        "print('-'*50)\n",
        "\n",
        "# Kappa Score\n",
        "print('KappaScore is: ', metrics.cohen_kappa_score(Y_test2,test_preds5))"
      ],
      "metadata": {
        "execution": {
          "iopub.status.busy": "2022-03-31T11:14:05.030145Z",
          "iopub.execute_input": "2022-03-31T11:14:05.03044Z",
          "iopub.status.idle": "2022-03-31T11:14:30.223482Z",
          "shell.execute_reply.started": "2022-03-31T11:14:05.030397Z",
          "shell.execute_reply": "2022-03-31T11:14:30.222593Z"
        },
        "trusted": true,
        "id": "rGcE84ofTADj"
      },
      "execution_count": null,
      "outputs": []
    },
    {
      "cell_type": "code",
      "source": [
        "KNN.predict([[7.4,47.7,78.182,100]])\n",
        "# Predictions on random values"
      ],
      "metadata": {
        "execution": {
          "iopub.status.busy": "2022-03-31T11:14:30.224883Z",
          "iopub.execute_input": "2022-03-31T11:14:30.2252Z",
          "iopub.status.idle": "2022-03-31T11:14:30.233344Z",
          "shell.execute_reply.started": "2022-03-31T11:14:30.225158Z",
          "shell.execute_reply": "2022-03-31T11:14:30.232429Z"
        },
        "trusted": true,
        "id": "CyM2DM_0TADj"
      },
      "execution_count": null,
      "outputs": []
    },
    {
      "cell_type": "code",
      "source": [
        "KNN.predict([[1,1.2,3.12,0]])\n",
        "# Predictions on random values"
      ],
      "metadata": {
        "execution": {
          "iopub.status.busy": "2022-03-31T11:14:30.234951Z",
          "iopub.execute_input": "2022-03-31T11:14:30.235369Z",
          "iopub.status.idle": "2022-03-31T11:14:30.244104Z",
          "shell.execute_reply.started": "2022-03-31T11:14:30.235324Z",
          "shell.execute_reply": "2022-03-31T11:14:30.243318Z"
        },
        "trusted": true,
        "id": "g1qXbhydTADj"
      },
      "execution_count": null,
      "outputs": []
    },
    {
      "cell_type": "code",
      "source": [
        "KNN.predict([[325.7,345,798.182,203]])\n",
        "# Predictions on random values"
      ],
      "metadata": {
        "execution": {
          "iopub.status.busy": "2022-03-31T11:14:30.245154Z",
          "iopub.execute_input": "2022-03-31T11:14:30.245368Z",
          "iopub.status.idle": "2022-03-31T11:14:30.255531Z",
          "shell.execute_reply.started": "2022-03-31T11:14:30.245337Z",
          "shell.execute_reply": "2022-03-31T11:14:30.254784Z"
        },
        "trusted": true,
        "id": "24UC5foHTADj"
      },
      "execution_count": null,
      "outputs": []
    }
  ]
}